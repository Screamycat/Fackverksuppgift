{
 "cells": [
  {
   "cell_type": "markdown",
   "metadata": {},
   "source": [
    "# Projektuppgift 1 - Kontinuerlig balk\n",
    "*Tobias Ericsson, David Neinhardt*  \n",
    "*2025-03-27*  \n",
    "*MTM026*  "
   ]
  },
  {
   "cell_type": "markdown",
   "metadata": {},
   "source": [
    "## Uppgift 2\n",
    "*Författa en mycket kortfattad rapport. Rapporten skall innehålla (för båda näten)*  \n",
    "- *Bild på deformerad balk och angiven största utböjning.*\n",
    "- *Tvärkraft- och momentdiagram.*\n",
    "- *Bild över största böjspänningen σ längs med balken (största värddet ska vara markerat).*\n",
    "- *Beräknade värden på stödkrafterna.*"
   ]
  },
  {
   "cell_type": "markdown",
   "metadata": {},
   "source": [
    "-\n",
    "\n",
    "\n",
    "...\n",
    "\n",
    "\n",
    "-"
   ]
  },
  {
   "cell_type": "markdown",
   "metadata": {},
   "source": [
    "## Uppgift 3  \n",
    "*Presentera en tabell innehållande värden på utböjning i frihetsgrad 3 och 9 samt alla reaktionskrafter. Tabellen ska innehålla värden från ANSYS och från Pythonlösningen (enligt exempeltabellen nedan). Syftet med tabellen är att tydligt visa att de två modellerna ger liknande resultat och att vi därför kan ha större förtroende att vår FE-modell är korrektuppställd.*\n",
    "\n",
    "### Bibliotek Introducerade  \n",
    "- **Pylab**: Innehåller bibliotek som numpy och plotlib som kan vara nödvändiga i uppgiften\n",
    "- **Sympy**: Är biblioteket som kommer att användas för majoriteten av alla beräkningsmetoder.\n",
    "- **MTM026**: Ett special tillämpat bibliotek med nödvändiga funktioner som underlättar beräkningarnas gång"
   ]
  },
  {
   "cell_type": "code",
   "execution_count": 50,
   "metadata": {},
   "outputs": [],
   "source": [
    "import pylab as pl\n",
    "import sympy as sp\n",
    "from mtm026 import *"
   ]
  },
  {
   "cell_type": "markdown",
   "metadata": {},
   "source": [
    "Vi ansätter alla våra givna värden till respektive variabel som vi sedan kommer använda i beräkningarna. Vi definierar även alla reaktionskrafter/moment och försjutningar/böjningar."
   ]
  },
  {
   "cell_type": "code",
   "execution_count": null,
   "metadata": {},
   "outputs": [],
   "source": [
    "P = 3000        #[N]\n",
    "q0 = 1500       #[N/m]\n",
    "M = 1500        #[Nm]\n",
    "L1 = 1          #[m]\n",
    "L2 = 3          #[m]\n",
    "a = 0.05        #[m]\n",
    "t = 0.002       #[m]\n",
    "E = 200000000   #[Pa]\n",
    "v = 0.3\n",
    "\n",
    "r1,r2,r3,r4,r5,r6,r7,r8,r9,r10,r11,r12 = sp.symbols('r1:13')    # Reaktionskrafter\n",
    "a1,a2,a3,a4,a5,a6,a7,a8,a9,a10,a11,a12 = sp.symbols('a1:13')    # Försjutningar\n"
   ]
  },
  {
   "cell_type": "markdown",
   "metadata": {},
   "source": [
    "..."
   ]
  },
  {
   "cell_type": "code",
   "execution_count": null,
   "metadata": {},
   "outputs": [],
   "source": [
    "\n",
    "Iz_1 =  2*(a*t**3)/12       # yttröghetsmoment för rektangel H/L\n",
    "Iz_2 =  2*((a-t)*t**3)/12   # yttröghetsmoment för rektangel Ö/N\n",
    "_z = (a/2-t/2)              # Avståndet till masscentrum, z-axeln\n",
    "A = a**2                    # Arean för rektangeln\n",
    "\n",
    "I =  Iz_1 + Iz_2 + _z*A     # Totala yttröghetsmomentet"
   ]
  },
  {
   "cell_type": "code",
   "execution_count": null,
   "metadata": {},
   "outputs": [
    {
     "data": {
      "text/latex": [
       "$\\displaystyle \\left[\\begin{array}{cccccccccccc}144000.3136 & 72000.1568 & -144000.3136 & 72000.1568 & 0 & 0 & 0 & 0 & 0 & 0 & 0 & 0\\\\72000.1568 & 48000.1045333333 & -72000.1568 & 24000.0522666667 & 0 & 0 & 0 & 0 & 0 & 0 & 0 & 0\\\\-144000.3136 & -72000.1568 & 288000.6272 & 0 & -144000.3136 & 72000.1568 & 0 & 0 & 0 & 0 & 0 & 0\\\\72000.1568 & 24000.0522666667 & 0 & 96000.2090666667 & -72000.1568 & 24000.0522666667 & 0 & 0 & 0 & 0 & 0 & 0\\\\0 & 0 & -144000.3136 & -72000.1568 & 149333.658548148 & -64000.1393777778 & -5333.34494814815 & 8000.01742222222 & 0 & 0 & 0 & 0\\\\0 & 0 & 72000.1568 & 24000.0522666667 & -64000.1393777778 & 64000.1393777778 & -8000.01742222222 & 8000.01742222222 & 0 & 0 & 0 & 0\\\\0 & 0 & 0 & 0 & -5333.34494814815 & -8000.01742222222 & 149333.658548148 & 64000.1393777778 & -144000.3136 & 72000.1568 & 0 & 0\\\\0 & 0 & 0 & 0 & 8000.01742222222 & 8000.01742222222 & 64000.1393777778 & 64000.1393777778 & -72000.1568 & 24000.0522666667 & 0 & 0\\\\0 & 0 & 0 & 0 & 0 & 0 & -144000.3136 & -72000.1568 & 288000.6272 & 0 & -144000.3136 & 72000.1568\\\\0 & 0 & 0 & 0 & 0 & 0 & 72000.1568 & 24000.0522666667 & 0 & 96000.2090666667 & -72000.1568 & 24000.0522666667\\\\0 & 0 & 0 & 0 & 0 & 0 & 0 & 0 & -144000.3136 & -72000.1568 & 144000.3136 & -72000.1568\\\\0 & 0 & 0 & 0 & 0 & 0 & 0 & 0 & 72000.1568 & 24000.0522666667 & -72000.1568 & 48000.1045333333\\end{array}\\right]$"
      ],
      "text/plain": [
       "Matrix([\n",
       "[ 144000.3136,       72000.1568, -144000.3136,       72000.1568,                 0,                 0,                 0,                0,            0,                0,            0,                0],\n",
       "[  72000.1568, 48000.1045333333,  -72000.1568, 24000.0522666667,                 0,                 0,                 0,                0,            0,                0,            0,                0],\n",
       "[-144000.3136,      -72000.1568,  288000.6272,                0,      -144000.3136,        72000.1568,                 0,                0,            0,                0,            0,                0],\n",
       "[  72000.1568, 24000.0522666667,            0, 96000.2090666667,       -72000.1568,  24000.0522666667,                 0,                0,            0,                0,            0,                0],\n",
       "[           0,                0, -144000.3136,      -72000.1568,  149333.658548148, -64000.1393777778, -5333.34494814815, 8000.01742222222,            0,                0,            0,                0],\n",
       "[           0,                0,   72000.1568, 24000.0522666667, -64000.1393777778,  64000.1393777778, -8000.01742222222, 8000.01742222222,            0,                0,            0,                0],\n",
       "[           0,                0,            0,                0, -5333.34494814815, -8000.01742222222,  149333.658548148, 64000.1393777778, -144000.3136,       72000.1568,            0,                0],\n",
       "[           0,                0,            0,                0,  8000.01742222222,  8000.01742222222,  64000.1393777778, 64000.1393777778,  -72000.1568, 24000.0522666667,            0,                0],\n",
       "[           0,                0,            0,                0,                 0,                 0,      -144000.3136,      -72000.1568,  288000.6272,                0, -144000.3136,       72000.1568],\n",
       "[           0,                0,            0,                0,                 0,                 0,        72000.1568, 24000.0522666667,            0, 96000.2090666667,  -72000.1568, 24000.0522666667],\n",
       "[           0,                0,            0,                0,                 0,                 0,                 0,                0, -144000.3136,      -72000.1568,  144000.3136,      -72000.1568],\n",
       "[           0,                0,            0,                0,                 0,                 0,                 0,                0,   72000.1568, 24000.0522666667,  -72000.1568, 48000.1045333333]])"
      ]
     },
     "metadata": {},
     "output_type": "display_data"
    }
   ],
   "source": [
    "K = sp.zeros(12,12)\n",
    "f = sp.zeros(12, 1)\n",
    "\n",
    "ke1 = Ke_balk(E*I, L1)\n",
    "ke3 = Ke_balk(E*I, L2)\n",
    "ke2 = ke1\n",
    "ke4 = ke1\n",
    "ke5 = ke1\n",
    "\n",
    "assem(K, ke1, dofs=[1,2,3,4])\n",
    "assem(K, ke2, dofs=[3,4,5,6])\n",
    "assem(K, ke3, dofs=[5,6,7,8])\n",
    "assem(K, ke4, dofs=[7,8,9,10])\n",
    "assem(K, ke5, dofs=[9,10,11,12])\n",
    "\n",
    "display(K)"
   ]
  }
 ],
 "metadata": {
  "kernelspec": {
   "display_name": "Python 3",
   "language": "python",
   "name": "python3"
  },
  "language_info": {
   "codemirror_mode": {
    "name": "ipython",
    "version": 3
   },
   "file_extension": ".py",
   "mimetype": "text/x-python",
   "name": "python",
   "nbconvert_exporter": "python",
   "pygments_lexer": "ipython3",
   "version": "3.11.9"
  }
 },
 "nbformat": 4,
 "nbformat_minor": 2
}

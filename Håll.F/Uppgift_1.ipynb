{
 "cells": [
  {
   "cell_type": "markdown",
   "metadata": {},
   "source": [
    "# Projektuppgift 1 - Kontinuerlig balk\n",
    "*Tobias Ericsson, David Neinhardt*  \n",
    "*2025-03-27*  \n",
    "*MTM026*  \n",
    "\n",
    "---\n",
    "\n",
    "## Bibliotek Introducerade  \n",
    "- **Pylab**: Innehåller bibliotek som numpy och plotlib som kan vara nödvändiga i uppgiften\n",
    "- **Sympy**: Är biblioteket som kommer att användas för majoriteten av alla beräkningsmetoder.\n",
    "- **MTM026**: Ett special tillämpat bibliotek med nödvändiga funktioner som underlättar beräkningarnas gång"
   ]
  },
  {
   "cell_type": "code",
   "execution_count": 3,
   "metadata": {},
   "outputs": [],
   "source": [
    "import pylab as pl\n",
    "import sympy as sp\n",
    "from mtm026 import *"
   ]
  },
  {
   "cell_type": "markdown",
   "metadata": {},
   "source": [
    "..."
   ]
  },
  {
   "cell_type": "code",
   "execution_count": null,
   "metadata": {},
   "outputs": [],
   "source": [
    "EI, L1, L2, Q, P, t, a = sp.symbols('EI L1 L2 Q P t a')\n",
    "\n",
    "a1,a2,a3,a4,a5,a6,a7,a8,a9,a10,a11,a12 = sp.symbols('a1:13')\n",
    "r1,r2,r3,r4,r5,r6,r7,r8,r9,r10,r11,r12 = sp.symbols('r1:13')\n",
    "\n",
    "K = pl.zeros(12,12)"
   ]
  },
  {
   "cell_type": "markdown",
   "metadata": {},
   "source": [
    "..."
   ]
  },
  {
   "cell_type": "code",
   "execution_count": null,
   "metadata": {},
   "outputs": [],
   "source": [
    "ke1 = Ke_balk(EI, L1)\n",
    "ke2 = ke1\n",
    "ke3 = "
   ]
  }
 ],
 "metadata": {
  "kernelspec": {
   "display_name": "Python 3",
   "language": "python",
   "name": "python3"
  },
  "language_info": {
   "codemirror_mode": {
    "name": "ipython",
    "version": 3
   },
   "file_extension": ".py",
   "mimetype": "text/x-python",
   "name": "python",
   "nbconvert_exporter": "python",
   "pygments_lexer": "ipython3",
   "version": "3.11.9"
  }
 },
 "nbformat": 4,
 "nbformat_minor": 2
}

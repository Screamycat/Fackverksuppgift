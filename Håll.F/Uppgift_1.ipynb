{
 "cells": [
  {
   "cell_type": "markdown",
   "metadata": {},
   "source": [
    "# Projektuppgift 1 - Kontinuerlig balk\n",
    "*Tobias Ericsson, David Neinhardt*  \n",
    "*2025-03-27*  \n",
    "*MTM026*  \n",
    "\n",
    "---\n",
    "\n",
    "## Bibliotek Introducerade  \n",
    "- **Pylab**: Innehåller bibliotke som numpy och plotlib som kan vara nödvändiga i uppgiften\n",
    "- **Sympy**: Är biblioteket som kommer att användas för majoriteten av alla beräkningsmetoder.\n",
    "- **MTM026**: Ett special tillämpat bibliotek med nödvändiga funktioner som underlättar beräkningarnas gång"
   ]
  },
  {
   "cell_type": "code",
   "execution_count": 1,
   "metadata": {},
   "outputs": [],
   "source": [
    "import pylab as pl\n",
    "import sympy as sp\n",
    "from mtm026 import *"
   ]
  },
  {
   "cell_type": "markdown",
   "metadata": {},
   "source": [
    "..."
   ]
  },
  {
   "cell_type": "code",
   "execution_count": null,
   "metadata": {},
   "outputs": [],
   "source": [
    "# ..."
   ]
  }
 ],
 "metadata": {
  "kernelspec": {
   "display_name": "Python 3",
   "language": "python",
   "name": "python3"
  },
  "language_info": {
   "codemirror_mode": {
    "name": "ipython",
    "version": 3
   },
   "file_extension": ".py",
   "mimetype": "text/x-python",
   "name": "python",
   "nbconvert_exporter": "python",
   "pygments_lexer": "ipython3",
   "version": "3.11.9"
  }
 },
 "nbformat": 4,
 "nbformat_minor": 2
}
